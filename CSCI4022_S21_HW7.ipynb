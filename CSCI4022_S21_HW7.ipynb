{
 "cells": [
  {
   "cell_type": "markdown",
   "metadata": {},
   "source": [
    "# CSCI4022 Homework 7; Decompositions\n",
    "\n",
    "## Due Friday, April 23 at 11:59 pm to Canvas\n",
    "\n",
    "#### Submit this file as a .ipynb with *all cells compiled and run* to the associated dropbox.\n",
    "\n",
    "***\n",
    "\n",
    "Your solutions to computational questions should include any specified Python code and results as well as written commentary on your conclusions.  Remember that you are encouraged to discuss the problems with your classmates, but **you must write all code and solutions on your own**.\n",
    "\n",
    "**NOTES**: \n",
    "\n",
    "- Any relevant data sets should be available on Canvas. To make life easier on the graders if they need to run your code, do not change the relative path names here. Instead, move the files around on your computer.\n",
    "- If you're not familiar with typesetting math directly into Markdown then by all means, do your work on paper first and then typeset it later.  Here is a [reference guide](https://math.meta.stackexchange.com/questions/5020/mathjax-basic-tutorial-and-quick-reference) linked on Canvas on writing math in Markdown. **All** of your written commentary, justifications and mathematical work should be in Markdown.  I also recommend the [wikibook](https://en.wikibooks.org/wiki/LaTeX) for LaTex.\n",
    "- Because you can technically evaluate notebook cells is a non-linear order, it's a good idea to do **Kernel $\\rightarrow$ Restart & Run All** as a check before submitting your solutions.  That way if we need to run your code you will know that it will work as expected. \n",
    "- It is **bad form** to make your reader interpret numerical output from your code.  If a question asks you to compute some value from the data you should show your code output **AND** write a summary of the results in Markdown directly below your code. \n",
    "- 45 points of this assignment are in problems.  The remaining 5 are for neatness, style, and overall exposition of both code and text.\n",
    "- This probably goes without saying, but... For any question that asks you to calculate something, you **must show all work and justify your answers to receive credit**. Sparse or nonexistent work will receive sparse or nonexistent credit. \n",
    "\n",
    "---\n",
    "\n",
    "**Shortcuts:**  [Problem 1](#p1) | [Problem 2](#p2) | [Problem 3](#p3) | \n",
    "\n",
    "---"
   ]
  },
  {
   "cell_type": "code",
   "execution_count": 2,
   "metadata": {},
   "outputs": [],
   "source": [
    "import matplotlib.pyplot as plt\n",
    "import numpy as np\n",
    "import pandas as pd\n",
    "import statsmodels.api as sm\n",
    "import networkx as nx"
   ]
  },
  {
   "cell_type": "markdown",
   "metadata": {},
   "source": [
    "***\n",
    "<a/ id='p1'></a>\n",
    "[Back to top](#top)\n",
    "# Problem 1 (7 pts; Theory: PCA)\n",
    "Prove that if $M$ is any matrix, then $M^TM$ and $MM^T$ are symmetric."
   ]
  },
  {
   "cell_type": "markdown",
   "metadata": {},
   "source": [
    "if M is an $n$x$l$ matrix\n",
    "\n",
    "$M^TM = (l$x$n)*(n$x$l) = l$x$l$ matrix\n",
    "\n",
    "$MM^T = (n$x$l)*(l$x$n) = n$x$n$ matrix\n",
    "\n",
    "both $MM^T$ and $M^TM$ have the same components of an $(l$x$n)$ matrix and a $(n$x$l)$ matrix."
   ]
  },
  {
   "cell_type": "markdown",
   "metadata": {},
   "source": [
    "***\n",
    "<a/ id='p3'></a>\n",
    "[Back to top](#top)\n",
    "# Problem 3 (15 pts; Practice: SVD)\n",
    "\n",
    "\n",
    "Below is the matrix M.  It has rank 3, as you can see by observing that the first column plus the third column minus twice the second column equals 0.\n",
    "\n",
    "\n",
    "$M=\\begin{bmatrix}\n",
    "1 &2 &3 &1\\\\\n",
    "3 &4 &5 &2\\\\\n",
    "5 &4 &3 &2\\\\\n",
    "0 &2 &4 &4\\\\\n",
    "1 &3 &5 &3\\\\\n",
    "5 &5 &5 &4\\\\\n",
    "3 &4 &5 &3\\\\\n",
    "\\end{bmatrix}$\n"
   ]
  },
  {
   "cell_type": "code",
   "execution_count": 3,
   "metadata": {},
   "outputs": [],
   "source": [
    "M= np.matrix([[1,2,3,1],\n",
    "             [3,4,5,2],\n",
    "             [5,4,3,2],\n",
    "             [0,2,4,4],\n",
    "             [1,3,5,3],\n",
    "             [5,5,5,4],\n",
    "             [3,4,5,3]])"
   ]
  },
  {
   "cell_type": "markdown",
   "metadata": {},
   "source": [
    "### Part  1:\n",
    "Compute the matrices $M^TM$ and $MM^T$.\n"
   ]
  },
  {
   "cell_type": "code",
   "execution_count": 6,
   "metadata": {},
   "outputs": [
    {
     "name": "stdout",
     "output_type": "stream",
     "text": [
      "MTM = \n",
      "[[ 70  74  78  49]\n",
      " [ 74  90 106  67]\n",
      " [ 78 106 134  85]\n",
      " [ 49  67  85  59]]\n",
      "MMT = \n",
      "[[15 28 24 20 25 34 29]\n",
      " [28 54 50 36 46 68 56]\n",
      " [24 50 54 28 38 68 52]\n",
      " [20 36 28 36 38 46 40]\n",
      " [25 46 38 38 44 57 49]\n",
      " [34 68 68 46 57 91 72]\n",
      " [29 56 52 40 49 72 59]]\n"
     ]
    }
   ],
   "source": [
    "MTM = np.matmul(np.transpose(M), M)\n",
    "MMT = np.matmul(M, np.transpose(M))\n",
    "print(\"MTM = \")\n",
    "print(MTM)\n",
    "print(\"MMT = \")\n",
    "print(MMT)"
   ]
  },
  {
   "cell_type": "markdown",
   "metadata": {},
   "source": [
    "### Part 2:\n",
    "Find the eigenvalues and eigenvectors for your matrices of part 1."
   ]
  },
  {
   "cell_type": "code",
   "execution_count": 10,
   "metadata": {},
   "outputs": [
    {
     "name": "stdout",
     "output_type": "stream",
     "text": [
      "MTM eigenvalues = \n",
      "[ 3.28334237e+02  2.10342829e+01 -2.04098610e-14  3.63147995e+00]\n",
      "MTM eigenvectors = \n",
      "[[ 4.15159885e-01  7.95351557e-01  4.08248290e-01  1.68497785e-01]\n",
      " [ 5.21210112e-01  1.82679368e-01 -8.16496581e-01 -1.68230798e-01]\n",
      " [ 6.27260338e-01 -4.29992821e-01  4.08248290e-01 -5.04959381e-01]\n",
      " [ 4.03146075e-01 -3.86199849e-01  3.20437688e-15  8.29652288e-01]]\n",
      "MMT eigenvalues = \n",
      "[ 3.28334237e+02  2.10342829e+01  3.63147995e+00  4.01878532e-15\n",
      " -2.44948549e-15 -1.81422318e-16  7.99117382e-16]\n",
      "MMT eigenvectors = \n",
      "[[-0.20654018 -0.11239264  0.44771718  0.53983181 -0.16374158  0.0422797\n",
      "   0.12080793]\n",
      " [-0.40137504  0.04238879  0.54203305  0.16498052  0.39476798 -0.03578994\n",
      "  -0.14698232]\n",
      " [-0.37796439  0.57673693 -0.16476956  0.07775797 -0.21930262 -0.15534569\n",
      "  -0.63618992]\n",
      " [-0.28499156 -0.63218774 -0.50497885  0.24132134  0.25964794  0.12554289\n",
      "  -0.35896797]\n",
      " [-0.34903597 -0.42848651  0.19522776 -0.18592535 -0.70476654 -0.5878821\n",
      "   0.01578527]\n",
      " [-0.52046017  0.26064306 -0.41725899  0.19518022 -0.10780146 -0.17176565\n",
      "   0.65125076]\n",
      " [-0.42362373 -0.04181822  0.10666727 -0.73784633  0.43990818  0.76284297\n",
      "   0.07634986]]\n"
     ]
    }
   ],
   "source": [
    "#YOUR CODE HERE\n",
    "MTMevals, MTMevecs = np.linalg.eig(MTM)\n",
    "print(\"MTM eigenvalues = \")\n",
    "print(MTMevals)\n",
    "print(\"MTM eigenvectors = \")\n",
    "print(MTMevecs)\n",
    "MMTevals, MMTevecs = np.linalg.eig(MMT)\n",
    "print(\"MMT eigenvalues = \")\n",
    "print(MMTevals)\n",
    "print(\"MMT eigenvectors = \")\n",
    "print(MMTevecs)"
   ]
  },
  {
   "cell_type": "markdown",
   "metadata": {},
   "source": [
    "### Part 3:\n",
    "Find the SVD for the original matrix $M$ from the objects in part B. Note that there are only two nonzero eigenvalues, so your matrix $\\Sigma$ should have only two singular values, while $U$ and $V$ have only two columns."
   ]
  },
  {
   "cell_type": "code",
   "execution_count": 39,
   "metadata": {},
   "outputs": [
    {
     "name": "stdout",
     "output_type": "stream",
     "text": [
      "35.20419394169281\n"
     ]
    }
   ],
   "source": [
    "#YOUR CODE HERE\n",
    "#EMTM = np.transpose(MTMevecs)\n",
    "#EMMT = np.transpose(MMTevecs)\n",
    "\n",
    "#MEMTM = np.matmul(M, EMTM)\n",
    "#MEMMT = np.matmul(M, EMMT)\n",
    "sig = np.sqrt(np.abs(MTMevals))\n",
    "sig = np.sort(sig)[::-1]\n",
    "sig = np.diag(sig)\n",
    "\n",
    "MMTevals_sorted = MMTevals_sorted = np.flip(np.sort(MMTevals),0)\n",
    "# Get the sorted list of indices for the eigenvalues\n",
    "MMTidx_sorted = [list(MMTevals).index(ee) for ee in MMTevals_sorted]\n",
    "U = MMTevecs[:,MMTidx_sorted]\n",
    "\n",
    "MTMevals_sorted = MTMevals_sorted = np.flip(np.sort(MTMevals),0)\n",
    "# Get the sorted list of indices for the eigenvalues\n",
    "MTMidx_sorted = [list(MTMevals).index(ee) for ee in MTMevals_sorted]\n",
    "VT = MTMevecs[:,MTMidx_sorted]\n",
    "\n",
    "# full Sigma matrix should match U's columns and V's rows\n",
    "sig_full = np.zeros((U.shape[1], VT.shape[0]))\n",
    "# fill in the singular values\n",
    "sig_full[:sig.shape[0], :sig.shape[1]] = sig\n",
    "\n",
    "print(np.linalg.norm(M - np.matmul(np.matmul(U, sig_full), VT)))"
   ]
  },
  {
   "cell_type": "markdown",
   "metadata": {},
   "source": [
    "### Part 4:\n",
    "\n",
    "Set your smaller singular value to 0 and compute the SVD rank 1 approximation to the matrix M.  How much of the energy of the original singular values is retained by the one-dimensional approximation?"
   ]
  },
  {
   "cell_type": "code",
   "execution_count": 47,
   "metadata": {},
   "outputs": [
    {
     "name": "stdout",
     "output_type": "stream",
     "text": [
      "35.20419394169281\n"
     ]
    }
   ],
   "source": [
    "sig_full[3][3] = 0\n",
    "print(np.linalg.norm(M - np.matmul(np.matmul(U, sig_full), VT)))"
   ]
  },
  {
   "cell_type": "markdown",
   "metadata": {},
   "source": [
    "***\n",
    "<a/ id='p3'></a>\n",
    "[Back to top](#top)\n",
    "# Problem 3 (15 pts; Practice, UV)\n",
    "\n",
    "Consider the same M as above;\n",
    "\n",
    "\n",
    "\n",
    "\n",
    "$M=\\begin{bmatrix}\n",
    "1 &2 &3 &1\\\\\n",
    "3 &4 &5 &2\\\\\n",
    "5 &4 &3 &2\\\\\n",
    "0 &2 &4 &4\\\\\n",
    "1 &3 &5 &3\\\\\n",
    "5 &5 &5 &4\\\\\n",
    "3 &4 &5 &3\\\\\n",
    "\\end{bmatrix}$\n",
    "\n",
    "### Part 1:\n",
    "Find the rank-1 U-V decomposition ($5 \\times 1$ times $1 \\times 3$) of M, using the Frobenius norm.  Initialize with all 1's, and for simplicity you may update the U and V entries in order if you wish."
   ]
  },
  {
   "cell_type": "code",
   "execution_count": 67,
   "metadata": {},
   "outputs": [
    {
     "name": "stdout",
     "output_type": "stream",
     "text": [
      "[[2.]\n",
      " [4.]\n",
      " [4.]\n",
      " [2.]\n",
      " [3.]]\n",
      "[[0.75510204 1.         1.24489796]]\n"
     ]
    }
   ],
   "source": [
    "#Initialize U and V\n",
    "U = np.ones((5,1))\n",
    "V = np.ones((1,3))\n",
    "\n",
    "#loop through U\n",
    "for r in range(5):\n",
    "    for s in range(1):\n",
    "        #update based on x equation from slides (equation modified from NB21)\n",
    "        U[r,s]=np.nansum([V[s,j]*(M[r,j]-np.sum(U[r,:]*V[:,j])+U[r,s]*V[s,j])  for j in range(3)])/np.nansum(V[s,:]**2)\n",
    "for s in range(3):\n",
    "    for r in range(1):\n",
    "        #update based on y equation from slides (equation modified from NB21)\n",
    "        V[r,s]=np.nansum([U[i,r]*(M[i,s]-np.sum(U[i,:]*V[:,s])+U[i,r]*V[r,s])  for i in range(5)])/np.nansum(U[:,r]**2)\n",
    "\n",
    "print(U)\n",
    "print(V)"
   ]
  },
  {
   "cell_type": "markdown",
   "metadata": {},
   "source": [
    "### Part 2:\n",
    "\n",
    "Use the decomposition above to \"predict\" the entry in column 1, row 4, where M holds a zero (i.e. report the entry of the $P=UV$ matrix)."
   ]
  },
  {
   "cell_type": "code",
   "execution_count": 76,
   "metadata": {},
   "outputs": [
    {
     "name": "stdout",
     "output_type": "stream",
     "text": [
      "[[1.51020408 2.         2.48979592]\n",
      " [3.02040816 4.         4.97959184]\n",
      " [3.02040816 4.         4.97959184]\n",
      " [1.51020408 2.         2.48979592]\n",
      " [2.26530612 3.         3.73469388]]\n",
      "2.2653061224489797\n"
     ]
    }
   ],
   "source": [
    "P = np.matmul(U,V)\n",
    "print(P)\n",
    "print(P[4][0])"
   ]
  },
  {
   "cell_type": "markdown",
   "metadata": {},
   "source": [
    "### Part 3:\n",
    "How does your decomposition vary from the one in Problem 2, part 4?  Does this make sense?"
   ]
  },
  {
   "cell_type": "markdown",
   "metadata": {},
   "source": [
    "The number above is $2.27$ which is smaller than what I got as a result in problem 2 part 4. This number looks more likely as it makes sense with the other numbers in the matrix M. This makes me think that one of my equations in problem 2 is wrong."
   ]
  },
  {
   "cell_type": "markdown",
   "metadata": {},
   "source": [
    "\n",
    "***\n",
    "<a/ id='p4'></a>\n",
    "[Back to top](#top)\n",
    "# Problem 4 (Practice: PCA/SVD and Data; 8 pts) \n"
   ]
  },
  {
   "cell_type": "markdown",
   "metadata": {},
   "source": [
    "In homework 3, we use k-means to cluster the data from the mtcars data set below.  We're going to repeat that analysis, but now use PCA to get a better final **visualization** of the data."
   ]
  },
  {
   "cell_type": "code",
   "execution_count": 88,
   "metadata": {},
   "outputs": [
    {
     "name": "stdout",
     "output_type": "stream",
     "text": [
      "                mpg  cyl   disp   hp  drat     wt   qsec  vs  am  gear  carb\n",
      "Mazda RX4      21.0    6  160.0  110  3.90  2.620  16.46   0   1     4     4\n",
      "Mazda RX4 Wag  21.0    6  160.0  110  3.90  2.875  17.02   0   1     4     4\n",
      "Datsun 710     22.8    4  108.0   93  3.85  2.320  18.61   1   1     4     1\n"
     ]
    },
    {
     "data": {
      "image/png": "[encoded data removed]",
      "text/plain": [
       "<Figure size 864x432 with 1 Axes>"
      ]
     },
     "metadata": {
      "needs_background": "light"
     },
     "output_type": "display_data"
    }
   ],
   "source": [
    "cars= sm.datasets.get_rdataset('mtcars').data\n",
    "print(cars.head(3))\n",
    "\n",
    "#example plot of mpg x hp\n",
    "fig, ax= plt.subplots(figsize=(12,6))\n",
    "plt.scatter(cars['mpg'], cars['hp'])\n",
    "ax.set_xlabel('mpg')\n",
    "ax.set_ylabel('hp');\n",
    "\n",
    "#We're going to attempt to cluster this data using **4** of these columns: mpg, disp, wt, and qsec."
   ]
  },
  {
   "cell_type": "markdown",
   "metadata": {},
   "source": [
    "### Part 1: Cluster\n",
    "\n",
    "Use k-means with k=3 (random initialization, only once to convergence) to find clusters for the data set.  Use the mpg, disp, wt, and qsec columns, but as in HW 3 replacing each with their standard normalization (for each column, subtract the mean of that column then divide by its standard deviation).\n",
    "\n",
    "You may use your old HW code or solutions/notebook code, here."
   ]
  },
  {
   "cell_type": "code",
   "execution_count": 91,
   "metadata": {},
   "outputs": [],
   "source": [
    "#code from NB solutions for k-means\n",
    "def dist(x1, x2):\n",
    "    return np.sqrt(np.sum((x1-x2)**2))\n",
    "\n",
    "cars_copy=cars.drop(columns=['cyl', 'hp', 'drat','vs','am','gear','carb'])\n",
    "\n",
    "cars_norm=cars_copy.copy()\n",
    "means=cars_norm.mean()\n",
    "sds=cars_norm.std(ddof=1)\n",
    "cars_norm=(cars_norm-means)/sds\n",
    "\n",
    "K = 3\n",
    "clocs=np.random.choice(range(len(cars)), size=K)\n",
    "\n",
    "centroids = np.array([cars_norm.iloc[clocs[0]], cars_norm.iloc[clocs[1]], cars_norm.iloc[clocs[2]]]) # initialize\n",
    "dists = [0]*K\n",
    "clustersn = np.array([-1]*len(cars))\n",
    "  \n",
    "for i in range(50): #50 steps is fine; or a tolerance/change check.\n",
    "    #update classifications\n",
    "    for j in range(len(cars)):\n",
    "        dists = [dist(cars_norm.iloc[j], cent) for cent in centroids]\n",
    "        assignment = dists.index(min(dists))\n",
    "        clustersn[j] = assignment\n",
    "        #update centroids\n",
    "    for j in range(K):\n",
    "        centroids[j]=[np.sum(cars_norm.iloc[clustersn==j,0])/len(cars_norm.iloc[clustersn==j,0]),\\\n",
    "                      np.sum(cars_norm.iloc[clustersn==j,1])/len(cars_norm.iloc[clustersn==j,1]),\\\n",
    "                      np.sum(cars_norm.iloc[clustersn==j,2])/len(cars_norm.iloc[clustersn==j,2]),\\\n",
    "                      np.sum(cars_norm.iloc[clustersn==j,3])/len(cars_norm.iloc[clustersn==j,3])]"
   ]
  },
  {
   "cell_type": "markdown",
   "metadata": {},
   "source": [
    "### Part 2: PCA\n",
    "\n",
    "Get the eigendecomposition of either $M^TM$ or $MM^T$, and use it to construct a decomposition of the given data matrix.  Then, rotate the data into it's $k=2$ lower dimensional representation according to PCA.  Then create a scatter plot of the data where the x-axis is the primary (largest) component/eigenvector and the y-axis is the second largest.  Color the observations according to their clusters in part 1.  Do the colorings appear more consistent with the picture than they did in HW3?"
   ]
  },
  {
   "cell_type": "code",
   "execution_count": null,
   "metadata": {},
   "outputs": [],
   "source": []
  },
  {
   "cell_type": "markdown",
   "metadata": {},
   "source": []
  }
 ],
 "metadata": {
  "kernelspec": {
   "display_name": "Python 3",
   "language": "python",
   "name": "python3"
  },
  "language_info": {
   "codemirror_mode": {
    "name": "ipython",
    "version": 3
   },
   "file_extension": ".py",
   "mimetype": "text/x-python",
   "name": "python",
   "nbconvert_exporter": "python",
   "pygments_lexer": "ipython3",
   "version": "3.7.4"
  }
 },
 "nbformat": 4,
 "nbformat_minor": 2
}
