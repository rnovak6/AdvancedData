{
 "cells": [
  {
   "cell_type": "markdown",
   "metadata": {},
   "source": [
    "# CSCI4022 Homework 3; Clustering\n",
    "\n",
    "## Due Monday, February 22 at 11:59 pm to Canvas\n",
    "\n",
    "#### Submit this file as a .ipynb with *all cells compiled and run* to the associated dropbox.\n",
    "\n",
    "***\n",
    "\n",
    "Your solutions to computational questions should include any specified Python code and results as well as written commentary on your conclusions.  Remember that you are encouraged to discuss the problems with your classmates, but **you must write all code and solutions on your own**.\n",
    "\n",
    "**NOTES**: \n",
    "\n",
    "- Any relevant data sets should be available on Canvas. To make life easier on the graders if they need to run your code, do not change the relative path names here. Instead, move the files around on your computer.\n",
    "- If you're not familiar with typesetting math directly into Markdown then by all means, do your work on paper first and then typeset it later.  Here is a [reference guide](https://math.meta.stackexchange.com/questions/5020/mathjax-basic-tutorial-and-quick-reference) linked on Canvas on writing math in Markdown. **All** of your written commentary, justifications and mathematical work should be in Markdown.  I also recommend the [wikibook](https://en.wikibooks.org/wiki/LaTeX) for LaTex.\n",
    "- Because you can technically evaluate notebook cells is a non-linear order, it's a good idea to do **Kernel $\\rightarrow$ Restart & Run All** as a check before submitting your solutions.  That way if we need to run your code you will know that it will work as expected. \n",
    "- It is **bad form** to make your reader interpret numerical output from your code.  If a question asks you to compute some value from the data you should show your code output **AND** write a summary of the results in Markdown directly below your code. \n",
    "- 45 points of this assignment are in problems.  The remaining 5 are for neatness, style, and overall exposition of both code and text.\n",
    "- This probably goes without saying, but... For any question that asks you to calculate something, you **must show all work and justify your answers to receive credit**. Sparse or nonexistent work will receive sparse or nonexistent credit. \n",
    "- There is *not a prescribed API* for these problems.  You may answer coding questions with whatever syntax or object typing you deem fit.  Your evaluation will primarily live in the clarity of how well you present your final results, so don't skip over any interpretations!  Your code should still be commented and readable to ensure you followed the given course algorithm.\n",
    "\n",
    "---"
   ]
  },
  {
   "cell_type": "code",
   "execution_count": 1,
   "metadata": {},
   "outputs": [],
   "source": [
    "import matplotlib.pyplot as plt\n",
    "import numpy as np\n",
    "import pandas as pd\n",
    "import statsmodels.api as sm"
   ]
  },
  {
   "cell_type": "markdown",
   "metadata": {},
   "source": [
    "\n",
    "***\n",
    "<a/ id='p4'></a>\n",
    "[Back to top](#top)\n",
    "# Problem 1 (Theory: GMM; 5 pts) \n",
    "In the GMM slides, we stated that the weights $w_m$ of the 1-dimensional GMM with pdf\n",
    "\n",
    "$f(x|\\theta)=w_1\\phi(x|\\mu_1, \\sigma_1^2)+w_2\\phi(x|\\mu_2, \\sigma_2^2)+\\dots+ w_m\\phi(x|\\mu_m, \\sigma_m^2)$\n",
    "\n",
    "required the weights to sum to one.  \n",
    "\n",
    "#### a) Use the following markdown cell to prove this statement.  In a sentence, describe how this proof might change in higher dimensions."
   ]
  },
  {
   "cell_type": "markdown",
   "metadata": {},
   "source": []
  },
  {
   "cell_type": "markdown",
   "metadata": {},
   "source": [
    "#### b) Is it possible to have a valid pdf $f(x)$ above if any of the weights $w_k$ are negative?  If not, why not?  If so, what other difficulties might be associated with negative weights?"
   ]
  },
  {
   "cell_type": "markdown",
   "metadata": {},
   "source": []
  },
  {
   "cell_type": "markdown",
   "metadata": {},
   "source": [
    "# Problem 2 (Simulation: GMMs and simulated data; 20 pts)"
   ]
  },
  {
   "cell_type": "markdown",
   "metadata": {},
   "source": [
    "The code below loads up a dataset tracking the eruptions of the geyser Old Faithful in Yellowstone.  It has two features:\n",
    "\n",
    "- eruptions; numeric; Eruption time in mins\n",
    "- waiting; numeric; Waiting time to next eruption (in mins)\n",
    "\n",
    "As the plot shows, these two variables are highly related, and we observe a data set that clearly has multiple distinct modes.\n",
    "\n",
    "Our goal in this problem is not only to capture the data set with the GMM, but to capture it well enough to simulate *new* eruptions from the original distribution."
   ]
  },
  {
   "cell_type": "code",
   "execution_count": 2,
   "metadata": {},
   "outputs": [
    {
     "name": "stdout",
     "output_type": "stream",
     "text": [
      "   eruptions  waiting\n",
      "0      3.600       79\n",
      "1      1.800       54\n",
      "2      3.333       74\n",
      "3      2.283       62\n",
      "4      4.533       85\n"
     ]
    },
    {
     "data": {
      "text/plain": [
       "<matplotlib.collections.PathCollection at 0x21d12b8a518>"
      ]
     },
     "execution_count": 2,
     "metadata": {},
     "output_type": "execute_result"
    },
    {
     "data": {
      "image/png": "[encoded data removed]",
      "text/plain": [
       "<matplotlib.figure.Figure at 0x21d0bee72b0>"
      ]
     },
     "metadata": {},
     "output_type": "display_data"
    }
   ],
   "source": [
    "ff= sm.datasets.get_rdataset('faithful').data\n",
    "print(ff.head())\n",
    "plt.scatter(ff['waiting'], ff['eruptions'])"
   ]
  },
  {
   "cell_type": "markdown",
   "metadata": {},
   "source": [
    "## Part A: Fit Models\n",
    "\n",
    "Run 5 different 2-D Gaussian Mixture Models on the given data with $k=2, 4, 6, 8, 10$ components.  You may use any form of intialization, but I recommend randomness for ease of use/repetition.\n",
    "\n",
    "Plot their \"elbow plot\" of $k$ versus mean-distance-to-centroid.  Does it look like there is a best choice of $k$ from these options?  Does this match your intuition?  Explain."
   ]
  },
  {
   "cell_type": "code",
   "execution_count": null,
   "metadata": {},
   "outputs": [],
   "source": []
  },
  {
   "cell_type": "markdown",
   "metadata": {},
   "source": [
    "## Part B: Simulate from Models\n",
    "\n",
    "Because the GMM is a *generative* model, we could use our results from part $A$ to not only score models based on their mean-distance-to-centroid (or other statistical measures like AIC, BIC), we could simulate points from the models and visually ascertain whether or not they appear similar to the original distribution.\n",
    "\n",
    "For each of the 5 GMM models in part a), simulate 272 points from your estimated density function (recall: this is a two-part simulation of choosing a component **then** drawing from the normal of appropriate mean/covariance).\n",
    "\n",
    "Create a figure with 2 columns and 3 rows holding all 6 data sets: the 5 simulated ones and the original data shown above.  Label each plot appropriately.  "
   ]
  },
  {
   "cell_type": "code",
   "execution_count": null,
   "metadata": {},
   "outputs": [],
   "source": []
  },
  {
   "cell_type": "markdown",
   "metadata": {},
   "source": [
    "## Part C: Discussion\n",
    "\n",
    "Which plot or plots look closest to the original data?  Depending on your interpretations of the elbow plot versus the simulated data, you may have decided that we wanted a different value of $k$ for the best model to *simulate* from rather than the best model to *cluster* or classify upon.  Do you think that this is normally the case?  Why or why not?  What properties of a data set would make one task easier or harder with more or less $k$?"
   ]
  },
  {
   "cell_type": "code",
   "execution_count": null,
   "metadata": {},
   "outputs": [],
   "source": []
  },
  {
   "cell_type": "markdown",
   "metadata": {},
   "source": [
    "\n",
    "\n",
    "# Problem 3 (Practice:k-means and clustering similarities; 20 pts)\n",
    "\n",
    "Our goal in this problem is to get a better understanding of two important facets of clustering: ways to compare between clusters and how much initialization might matter for e.g. kmeans.\n",
    "\n",
    "The code below loads up a well known dataset extracted from the 1974 Motor Trend US magazine, and comprises fuel consumption and 10 aspects of automobile design and performance for 32 automobiles (1973–74 models).  The columns are:\n",
    "\n",
    "- mpg:\tMiles/(US) gallon\n",
    "- cyl:\tNumber of cylinders\n",
    "- disp:\tDisplacement (cu.in.)\n",
    "-  hp:\tGross horsepower\n",
    "- drat:\tRear axle ratio\n",
    "- wt:\tWeight (1000 lbs)\n",
    "- qsec:\t1/4 mile time\n",
    "- vs:\tEngine (0 = V-shaped, 1 = straight)\n",
    "- am:\tTransmission (0 = automatic, 1 = manual)\n",
    "- gear:\tNumber of forward gears\n",
    "- carb:\tNumber of carburetors\n",
    "\n",
    "We're going to attempt to cluster this data using **4** of these columns: mpg, disp, wt, and qsec."
   ]
  },
  {
   "cell_type": "code",
   "execution_count": 3,
   "metadata": {},
   "outputs": [
    {
     "name": "stdout",
     "output_type": "stream",
     "text": [
      "                mpg  cyl   disp   hp  drat     wt   qsec  vs  am  gear  carb\n",
      "Mazda RX4      21.0    6  160.0  110  3.90  2.620  16.46   0   1     4     4\n",
      "Mazda RX4 Wag  21.0    6  160.0  110  3.90  2.875  17.02   0   1     4     4\n",
      "Datsun 710     22.8    4  108.0   93  3.85  2.320  18.61   1   1     4     1\n"
     ]
    },
    {
     "data": {
      "image/png": "[encoded data removed]",
      "text/plain": [
       "<matplotlib.figure.Figure at 0x21d129fb780>"
      ]
     },
     "metadata": {},
     "output_type": "display_data"
    }
   ],
   "source": [
    "cars= sm.datasets.get_rdataset('mtcars').data\n",
    "print(cars.head(3))\n",
    "\n",
    "#example plot of mpg x hp\n",
    "fig, ax= plt.subplots(figsize=(12,6))\n",
    "plt.scatter(cars['mpg'], cars['hp'])\n",
    "ax.set_xlabel('mpg')\n",
    "ax.set_ylabel('hp');"
   ]
  },
  {
   "cell_type": "markdown",
   "metadata": {},
   "source": [
    "## Part A) K-means and Normalization: Intuition\n",
    "\n",
    "The first question we should ask is whether or not to normalize our data.  Use the pandas methods `describe` on the data frame.  What do you expect to happen if we cluster without normalizing the data?  Why?\n",
    "\n"
   ]
  },
  {
   "cell_type": "markdown",
   "metadata": {},
   "source": []
  },
  {
   "cell_type": "markdown",
   "metadata": {},
   "source": [
    "## Part B) K-means and Normalization: First Clusters \n",
    "\n",
    "Now do initial, unnormalized clustering for $k=3$.  Save the final cluster for each point.  Plot the final clusters on an `mpg` versus `disp` axis."
   ]
  },
  {
   "cell_type": "code",
   "execution_count": null,
   "metadata": {},
   "outputs": [],
   "source": []
  },
  {
   "cell_type": "markdown",
   "metadata": {},
   "source": [
    "## Part C) K-means and Normalization: An Alternative\n",
    "\n",
    "Normalize the 4 columns being used by replacing each with their Box-Muller transformation (for each column, subtract the mean of that column then divide by its standard deviation).  Repeat your clustering for $k=3$, again saving the final cluster for each point.  Plot the final clusters on an `mpg` versus `disp` axis.\n",
    "\n",
    "Then answer: do the clusterings look different?"
   ]
  },
  {
   "cell_type": "code",
   "execution_count": null,
   "metadata": {},
   "outputs": [],
   "source": []
  },
  {
   "cell_type": "markdown",
   "metadata": {},
   "source": [
    "\n",
    "\n",
    "## Part D) The Rand Statistic\n",
    "We need to formalize wheter or not normalizing actually mattered, which requires a measurement of whether or not two clusterings are actually different from one another! \n",
    "\n",
    "To do this we are going to use the Rand statistic, with documentation here: \n",
    "\n",
    "https://scikit-learn.org/stable/modules/generated/sklearn.metrics.adjusted_rand_score.html\n",
    "\n",
    "Use the `adjusted_rand_score` metric loaded below and compare the two clusterings from parts A and B."
   ]
  },
  {
   "cell_type": "code",
   "execution_count": 4,
   "metadata": {},
   "outputs": [
    {
     "name": "stdout",
     "output_type": "stream",
     "text": [
      "1.0\n",
      "-0.49999999999999994\n"
     ]
    }
   ],
   "source": [
    "from sklearn.metrics.cluster import adjusted_rand_score\n",
    "print(adjusted_rand_score([1, 0, 1], [0,1,0])) #example that's actually the same assignments!\n",
    "print(adjusted_rand_score([1, 0, 1], [0,0,1])) #example: Rand score is negative if very different\n",
    "\n",
    "#How do your clusters compare?"
   ]
  },
  {
   "cell_type": "markdown",
   "metadata": {},
   "source": [
    "\n",
    "\n",
    "## Part E) ...and then repeat.\n",
    "\n",
    "Of course, it turns out that kmeans might *also* depend on initializations, and we want to make sure that random initializations aren't affecting your clusters in parts A and B.  One way to ensure that we don't get \"unlucky\" results is to repeat our experiment with many different initializations, and then choose the \"best\" one.  A Rand statistic gives us a mechanism to do this!\n",
    "\n",
    "\n",
    "### E. i) \n",
    "Run k-means 100 times for $k=3$ on the *unnormalized* data, each with a different random initialization.\n",
    "\n",
    "In other words, perform the following operations 100 times:\n",
    "\n",
    "    1) Initialize k-means by randomly selecting `k' of your data points\n",
    "    2) Run k-means until convergence\n",
    "    3) Save the final cluster for each point\n",
    "    \n",
    "    \n",
    "A few rows of your final k=3 output might be:\n",
    "\n",
    "`dfk3.head(3)'\n",
    "\n",
    "| Point # | Run1 | Run2 | Run3 | ... | Run 100 |\n",
    "| --- | --- |\n",
    "| 1 | 1 | 2 | 1| ... | 1 |\n",
    "| 2 | 3 | 1 | 3 | ... | 3|\n",
    "| 3 | 1 | 2 | 1 | ... | 1|\n",
    "\n",
    "(so in this example, points 1 & 3 were always in the same cluster, but point 2 was elsewhere)\n",
    "\n"
   ]
  },
  {
   "cell_type": "markdown",
   "metadata": {},
   "source": [
    "### E. ii) \n",
    "Run k-means 100 times for $k=3$ on the *normalized* data, each with a different random initialization.  Save the results in another data frame."
   ]
  },
  {
   "cell_type": "code",
   "execution_count": null,
   "metadata": {},
   "outputs": [],
   "source": []
  },
  {
   "cell_type": "markdown",
   "metadata": {},
   "source": [
    "### E. iii) \n",
    "\n",
    "For the 100 runs on the unnormalized data, create a similarity matrix of all-pairwise Rand scores.  Select the run with the highest overall summed Rand scores as the \"most indicative run\" (note: this is actually the clustroid of the clusters, if we consider Rand similarity an approximate distance!).\n"
   ]
  },
  {
   "cell_type": "code",
   "execution_count": null,
   "metadata": {},
   "outputs": [],
   "source": []
  },
  {
   "cell_type": "markdown",
   "metadata": {},
   "source": [
    "\n",
    "### E. iv) \n",
    "\n",
    "For the 100 runs on the normalized data, create a similarity matrix of all-pairwise Rand scores.  Select the run with the highest overall summed Rand scores as the \"most indicative run\" (note: this is actually the clustroid of the clusters, if we consider Rand similarity an approximate distance!).\n",
    "\n"
   ]
  },
  {
   "cell_type": "code",
   "execution_count": null,
   "metadata": {},
   "outputs": [],
   "source": []
  },
  {
   "cell_type": "markdown",
   "metadata": {},
   "source": [
    "### E. v)  \n",
    "\n",
    "Compare the two runs selected by parts E.iii and E.iv.  Are they identical, or can we definititely say that normalization effects the clustering in this problem?\n"
   ]
  },
  {
   "cell_type": "code",
   "execution_count": null,
   "metadata": {},
   "outputs": [],
   "source": []
  },
  {
   "cell_type": "markdown",
   "metadata": {},
   "source": [
    "## Part F) Visualize\n",
    "Plot the best $k=3$ cluster resulting from clustering the *normalized* data, but use the original data scale in the plot.  Use mpg versus displacement for the axes.  Color the clusters, and label each point with the car name."
   ]
  },
  {
   "cell_type": "code",
   "execution_count": null,
   "metadata": {},
   "outputs": [],
   "source": []
  }
 ],
 "metadata": {
  "kernelspec": {
   "display_name": "Python 3",
   "language": "python",
   "name": "python3"
  },
  "language_info": {
   "codemirror_mode": {
    "name": "ipython",
    "version": 3
   },
   "file_extension": ".py",
   "mimetype": "text/x-python",
   "name": "python",
   "nbconvert_exporter": "python",
   "pygments_lexer": "ipython3",
   "version": "3.7.4"
  }
 },
 "nbformat": 4,
 "nbformat_minor": 2
}
