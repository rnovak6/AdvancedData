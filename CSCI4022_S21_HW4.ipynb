{
 "cells": [
  {
   "cell_type": "markdown",
   "metadata": {},
   "source": [
    "# CSCI4022 Homework 4; Item Sets\n",
    "\n",
    "## Due Friday, March 12 at 11:59 pm to Canvas\n",
    "\n",
    "#### Submit this file as a .ipynb with *all cells compiled and run* to the associated dropbox.\n",
    "\n",
    "***\n",
    "\n",
    "Your solutions to computational questions should include any specified Python code and results as well as written commentary on your conclusions.  Remember that you are encouraged to discuss the problems with your classmates, but **you must write all code and solutions on your own**.\n",
    "\n",
    "**NOTES**: \n",
    "\n",
    "- Any relevant data sets should be available on Canvas. To make life easier on the graders if they need to run your code, do not change the relative path names here. Instead, move the files around on your computer.\n",
    "- If you're not familiar with typesetting math directly into Markdown then by all means, do your work on paper first and then typeset it later.  Here is a [reference guide](https://math.meta.stackexchange.com/questions/5020/mathjax-basic-tutorial-and-quick-reference) linked on Canvas on writing math in Markdown. **All** of your written commentary, justifications and mathematical work should be in Markdown.  I also recommend the [wikibook](https://en.wikibooks.org/wiki/LaTeX) for LaTex.\n",
    "- Because you can technically evaluate notebook cells is a non-linear order, it's a good idea to do **Kernel $\\rightarrow$ Restart & Run All** as a check before submitting your solutions.  That way if we need to run your code you will know that it will work as expected. \n",
    "- It is **bad form** to make your reader interpret numerical output from your code.  If a question asks you to compute some value from the data you should show your code output **AND** write a summary of the results in Markdown directly below your code. \n",
    "- 45 points of this assignment are in problems.  The remaining 5 are for neatness, style, and overall exposition of both code and text.\n",
    "- This probably goes without saying, but... For any question that asks you to calculate something, you **must show all work and justify your answers to receive credit**. Sparse or nonexistent work will receive sparse or nonexistent credit. \n",
    "- There is *not a prescribed API* for these problems, except the **form of your output for #3**.  You may answer coding questions with whatever syntax or object typing you deem fit.  Your evaluation will primarily live in the clarity of how well you present your final results, so don't skip over any interpretations!  Your code should still be commented and readable to ensure you followed the given course algorithm.\n",
    "\n",
    "---"
   ]
  },
  {
   "cell_type": "code",
   "execution_count": null,
   "metadata": {},
   "outputs": [],
   "source": [
    "import matplotlib.pyplot as plt\n",
    "import numpy as np\n",
    "import pandas as pd\n",
    "import statsmodels.api as sm"
   ]
  },
  {
   "cell_type": "markdown",
   "metadata": {},
   "source": [
    "\n",
    "***\n",
    "<a/ id='p1'></a>\n",
    "[Back to top](#top)\n",
    "# Problem 1 (Theory: A Priori Properties; 10 pts) \n",
    "In using triangular arrays to store item basket data, we defined the function $a[k] :=$ count for the pair ${i, j}$, where $1 \\leq i < j \\leq n,$ with\n",
    "\n",
    "$k=(i-1)\\left(n-\\frac{i}{2}\\right) +j -i$\n",
    "\n",
    "\n",
    "This formula involves dividing an arbitrary integer i by 2. Yet $k$ is an index, so we need to have k be an integer. Prove that k will, in fact, be an integer.\n"
   ]
  },
  {
   "cell_type": "markdown",
   "metadata": {},
   "source": []
  },
  {
   "cell_type": "markdown",
   "metadata": {},
   "source": [
    "***\n",
    "<a/ id='p2'></a>\n",
    "[Back to top](#top)\n",
    "# Problem 2 (Theory: Item Baskets; 10 pts)\n",
    "\n",
    "Suppose we have 20 distinct items numbered 1 to 20. Each basket is constructed by including the item numbered `k` with probability $1/k$, independent of other items.  As a result, all baskets will include item 1, half will include item 2, and so forth.  What are all of the *itemsets* expected to be frequent at a support threshold of 3%?\n",
    "\n",
    "Note: You may use simulation if you prefer, but I suspect you may find the pen-and-paper answer is easier."
   ]
  },
  {
   "cell_type": "markdown",
   "metadata": {},
   "source": []
  },
  {
   "cell_type": "markdown",
   "metadata": {},
   "source": [
    "***\n",
    "<a/ id='p3'></a>\n",
    "[Back to top](#top)\n",
    "# Problem 3 (Practice: Candidate Items; 25 pts)\n",
    "\n",
    "In the A-Priori algorithm, there is a step in which we create a candidate list of frequent itemsets of size $k+1$ as we prune the frequent itemsets of size $k$.  This this problem we will create two functions to do that formally.\n",
    "\n",
    "#### Part A:\n",
    "\n",
    "There are two types of data objects in which we might be holding the frequency counts of itemsets.  If $k=2$, they may be stored in a triangular array.  Create a function `Cand_Trips` that takes a triangular array and returns all valid candidate triples as a list.  Recall that the itemset $\\{i,j,k\\}$ is only a candidate if all 3 of the itemsets in $\\{\\{i,j\\}, \\{i,k\\}, \\{k,j\\}\\}$ are frequent.\n",
    "\n",
    "Some usage notes:\n",
    "\n",
    "- The first input argument is `Triang_Counts`,  a zero-indexed triangular (numeric) array, by same convention as introduced in class.\n",
    "- The second input argument is the positive integer support threshold `s`.\n",
    "- The underlying itemset is 0-indexed, so e.g. `[0,1,3]` is a valid triple.\n",
    "- The return array `Candidates` should be a list of 3-index lists of the item numbers of the triples.  So a final answer for some input might be:\n",
    "\n",
    "`Cand_Trips` =\n",
    "    `[[0,3,4], [1,2,7]]`\n",
    "\n",
    "- An implementation note: there are two fundamentally different ways to think about implementing this function.  Option 1 involves thinking about the elements of `Tri_Counts` in terms of their locations on the corresponding *triangular matrix*: scan row $i$ for a pair of frequent pairs $\\{\\{i,j\\}, \\{i,k\\}\\}$ and then check if $\\{j,k\\}$ is in fact frequent.  Option 2 scans all of `Tri_Counts` for frequent item pairs (the \"pruning\" step) and saves those in some object with their indices, then scans *that* object for candidates.  Both are valid for this problem, but option 2 may generalize to higher $k$ better..."
   ]
  },
  {
   "cell_type": "code",
   "execution_count": null,
   "metadata": {},
   "outputs": [],
   "source": [
    "def Cand_Trips(Triang_Counts, s):\n",
    "    #do the thing\n",
    "    return Candidates"
   ]
  },
  {
   "cell_type": "markdown",
   "metadata": {},
   "source": [
    "#### Part B:\n",
    "\n",
    "A quick test case.  Below is  a matrix $M$ and code including its corresponding the triangular array.  \n",
    "\n",
    "$C=\\begin{bmatrix}\n",
    "\\cdot &10&7&3&2\\\\\n",
    "\\cdot &\\cdot&6&4&3\\\\\n",
    "\\cdot &\\cdot&\\cdot&3&6\\\\\n",
    "\\cdot &\\cdot&\\cdot&\\cdot&0\\\\\n",
    "\\cdot &\\cdot&\\cdot&\\cdot&\\cdot\\\\\n",
    "\\end{bmatrix}$\n",
    " \n",
    "Input the given list into your function to verify that it returns the correct valid triples at $s=1$ and $s=6$."
   ]
  },
  {
   "cell_type": "code",
   "execution_count": 5,
   "metadata": {},
   "outputs": [],
   "source": [
    "Triang_Counts=[10,7,3,2,6,4,3,3,2,0]\n",
    "\n",
    "#Check that...\n",
    "#Cand_Trips(Triang_Counts, 1) returns all the possible triples except those that contain BOTH items 3 and 4.\n",
    "#Cand_Trips(Triang_Counts, 6) returns only the triple [[0,1,2]]"
   ]
  },
  {
   "cell_type": "markdown",
   "metadata": {},
   "source": [
    "#### Part C:\n",
    "\n",
    "Suppose instead that our $k=2$ item counts were stored in a list of the form e.g.\n",
    "`Pairs_Counts` =\n",
    "    `[[0,1,12], [0,2,0], [0,3,11], ..., [7,8,103]]`\n",
    "    \n",
    "Where each element is a triple storing the two item indices and their count, $[i,j,c_{ij}]$. \n",
    "\n",
    "Create a function `Cand_Trips_List` that takes in a list of pairs counts and returns all valid candidate triples as a list.  \n",
    "\n",
    "Some usage notes:\n",
    "\n",
    "- The first input argument is `Pairs_Counts`,  a zero-indexed list of triples.\n",
    "- The second input argument is the positive integer support threshold `s`.\n",
    "- The underlying itemset is 0-indexed, so e.g. `[0,1,3]` is a valid triple.\n",
    "- The return array `Candidates` should be a list of 3-element lists, as above.\n",
    "\n",
    "You should **not** convert the input list `Pairs_Counts` into a triangular array as part of your function.  After all, sometimes we use the list format for pairs because it saves memory compared to the triangular array format!  You may be able to borrow heavily from the logic of your first function, though!"
   ]
  },
  {
   "cell_type": "code",
   "execution_count": 10,
   "metadata": {},
   "outputs": [],
   "source": [
    "def Cand_Trips_List(Pairs_Counts, s):\n",
    "    #do the thing\n",
    "    return Candidates"
   ]
  },
  {
   "cell_type": "markdown",
   "metadata": {},
   "source": [
    "#### Part D:\n",
    "\n",
    "Do the test case again.  Below is the list reprentation of the same matrix $M$ from part B.  \n",
    " \n",
    "Input the given list into your function to verify that it returns the correct valid triples at $s=1$ and $s=6$."
   ]
  },
  {
   "cell_type": "code",
   "execution_count": 8,
   "metadata": {},
   "outputs": [
    {
     "data": {
      "text/plain": [
       "[[0, 1, 10],\n",
       " [0, 2, 7],\n",
       " [0, 3, 3],\n",
       " [0, 4, 2],\n",
       " [1, 2, 6],\n",
       " [1, 3, 4],\n",
       " [1, 4, 3],\n",
       " [2, 3, 3],\n",
       " [2, 4, 2],\n",
       " [3, 4, 0]]"
      ]
     },
     "execution_count": 8,
     "metadata": {},
     "output_type": "execute_result"
    }
   ],
   "source": [
    "Pairs_Counts=[[0,1,10], [0,2,7], [0,3,3], [0,4,2],\\\n",
    "             [1,2,6],[1,3,4], [1,4,3],\\\n",
    "             [2,3,3],[2,4,2],\\\n",
    "             [3,4,0]]\n",
    "Pairs_Counts\n",
    "\n",
    "#Check that...\n",
    "#Cand_Trips(Pairs_Counts, 1) returns all the possible triples except those that contain BOTH items 3 and 4.\n",
    "#Cand_Trips(Pairs_Counts, 6) returns only the triple [[0,1,2]]"
   ]
  },
  {
   "cell_type": "markdown",
   "metadata": {},
   "source": [
    "#### Part E\n",
    "\n",
    "Describe *in words* how you would generalize your code in part D to work for generating candidate quadruples $[i_1, i_2, i_3, i_4]$ from an input list of triples counts (each element of the form $[i, j, k, c_{ijk}]$)."
   ]
  },
  {
   "cell_type": "markdown",
   "metadata": {},
   "source": [
    "# Problem 4 (Practice: A-Priori.  Not due this week.)\n",
    "\n",
    "This problem is **not on this homework**.  It is repeated on the homework due next week on Friday, Mar 19, which also contains your first PageRank/power iteration problem(s).  But it is contained here in brief in case you wish to start on it early, because it involves using A-Priori and includes some data wrangling/munging that you might enjoy extra time on.\n",
    "\n",
    "Consider the Online Retail data set provided in `onlineretail.csv`.  This includes over 500,000 purchases from an online retailer.\n",
    "\n",
    "We want to use the baskets (marked by `InvoiceNo`) and the items (marked by `StockCode` and/or `Description`) to perform an item basket analysis.\n",
    "\n",
    "This data set is small enough to run directly from main memory, so you may do that if you wish.  You may also complete this problem using only the first 100,000 entries of the .csv if you wish for shorter computational time.  Be very explicit which you are using.\n",
    "\n",
    "#### a)  There are some odd entries in the data set.  Make sure that you're discarding any transactions and items with no `Description`, non-positive `Quantity`, or non-positive `Unit Price`.\n",
    "\n",
    "\n",
    "#### b) For our first iteration, we will use just `StockCode` for the items.  Use `StockCode` to create a table of frequent single items at 1% support threshold.  For convenience on this part of the problem and part c), you may choose to discard all items with non-integer values in `StockCode`.  Was 1% an appropriate support threshold?  Describe why or why not.\n",
    "\n",
    "#### c) Use A-priori to find all frequent  pairs of items from your set of frequent items in a).  Use whatever support threshold you feel is most appropriate.\n",
    "\n",
    "#### d) Use a hash table to hash items from their `Descriptions`.  Include a check to minimize and fix any collisions, as in nb08.\n",
    "\n",
    "#### e) Use A-priori to find all frequent items and all frequent pairs of items from your hashed data set in part c).\n",
    "\n",
    "#### f) Did any frequent items appear in part d) that did not in part b)?  If so, list them."
   ]
  }
 ],
 "metadata": {
  "kernelspec": {
   "display_name": "Python 3",
   "language": "python",
   "name": "python3"
  },
  "language_info": {
   "codemirror_mode": {
    "name": "ipython",
    "version": 3
   },
   "file_extension": ".py",
   "mimetype": "text/x-python",
   "name": "python",
   "nbconvert_exporter": "python",
   "pygments_lexer": "ipython3",
   "version": "3.7.4"
  }
 },
 "nbformat": 4,
 "nbformat_minor": 2
}
